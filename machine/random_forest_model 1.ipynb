{
 "cells": [
  {
   "cell_type": "code",
   "execution_count": 1,
   "id": "3173c43d-7e96-453e-994c-5b1cdd1d6785",
   "metadata": {},
   "outputs": [],
   "source": [
    "# Import necessary libraries\n",
    "import pandas as pd\n",
    "import numpy as np\n",
    "from sklearn.model_selection import train_test_split, cross_val_score\n",
    "from sklearn.preprocessing import LabelEncoder, MinMaxScaler  # Changed to MinMaxScaler\n",
    "from sklearn.metrics import accuracy_score, classification_report, roc_auc_score\n",
    "from sklearn.utils import resample\n",
    "from sklearn.linear_model import LogisticRegression\n",
    "from sklearn.ensemble import RandomForestClassifier\n",
    "import xgboost as xgb\n",
    "import lightgbm as lgb\n",
    "import matplotlib.pyplot as plt\n",
    "import seaborn as sns\n",
    "import joblib\n"
   ]
  },
  {
   "cell_type": "code",
   "execution_count": 2,
   "id": "896e7d3c-7cd3-4d79-a9de-e5752c863030",
   "metadata": {},
   "outputs": [
    {
     "data": {
      "text/html": [
       "<div>\n",
       "<style scoped>\n",
       "    .dataframe tbody tr th:only-of-type {\n",
       "        vertical-align: middle;\n",
       "    }\n",
       "\n",
       "    .dataframe tbody tr th {\n",
       "        vertical-align: top;\n",
       "    }\n",
       "\n",
       "    .dataframe thead th {\n",
       "        text-align: right;\n",
       "    }\n",
       "</style>\n",
       "<table border=\"1\" class=\"dataframe\">\n",
       "  <thead>\n",
       "    <tr style=\"text-align: right;\">\n",
       "      <th></th>\n",
       "      <th>Gender</th>\n",
       "      <th>Age</th>\n",
       "      <th>Diagnosis</th>\n",
       "      <th>Days in Hospital</th>\n",
       "      <th>Number of Procedures</th>\n",
       "      <th>Readmitted</th>\n",
       "    </tr>\n",
       "  </thead>\n",
       "  <tbody>\n",
       "    <tr>\n",
       "      <th>0</th>\n",
       "      <td>M</td>\n",
       "      <td>32</td>\n",
       "      <td>Abdominal Injury</td>\n",
       "      <td>9</td>\n",
       "      <td>7</td>\n",
       "      <td>1</td>\n",
       "    </tr>\n",
       "    <tr>\n",
       "      <th>1</th>\n",
       "      <td>M</td>\n",
       "      <td>15</td>\n",
       "      <td>Depressed Skull Fracture</td>\n",
       "      <td>3</td>\n",
       "      <td>8</td>\n",
       "      <td>1</td>\n",
       "    </tr>\n",
       "    <tr>\n",
       "      <th>2</th>\n",
       "      <td>M</td>\n",
       "      <td>26</td>\n",
       "      <td>Diabetic Foot Gangrene</td>\n",
       "      <td>10</td>\n",
       "      <td>1</td>\n",
       "      <td>1</td>\n",
       "    </tr>\n",
       "    <tr>\n",
       "      <th>3</th>\n",
       "      <td>M</td>\n",
       "      <td>33</td>\n",
       "      <td>Multiple Injury</td>\n",
       "      <td>2</td>\n",
       "      <td>2</td>\n",
       "      <td>0</td>\n",
       "    </tr>\n",
       "    <tr>\n",
       "      <th>4</th>\n",
       "      <td>F</td>\n",
       "      <td>30</td>\n",
       "      <td>Multiple Injury</td>\n",
       "      <td>3</td>\n",
       "      <td>4</td>\n",
       "      <td>1</td>\n",
       "    </tr>\n",
       "    <tr>\n",
       "      <th>...</th>\n",
       "      <td>...</td>\n",
       "      <td>...</td>\n",
       "      <td>...</td>\n",
       "      <td>...</td>\n",
       "      <td>...</td>\n",
       "      <td>...</td>\n",
       "    </tr>\n",
       "    <tr>\n",
       "      <th>995</th>\n",
       "      <td>M</td>\n",
       "      <td>22</td>\n",
       "      <td>Right Wrist Injury</td>\n",
       "      <td>9</td>\n",
       "      <td>9</td>\n",
       "      <td>1</td>\n",
       "    </tr>\n",
       "    <tr>\n",
       "      <th>996</th>\n",
       "      <td>F</td>\n",
       "      <td>23</td>\n",
       "      <td>Left Hand Fingers Injury</td>\n",
       "      <td>5</td>\n",
       "      <td>9</td>\n",
       "      <td>0</td>\n",
       "    </tr>\n",
       "    <tr>\n",
       "      <th>997</th>\n",
       "      <td>M</td>\n",
       "      <td>20</td>\n",
       "      <td>Soft Tissue Injury Right Ankle Fracture</td>\n",
       "      <td>2</td>\n",
       "      <td>3</td>\n",
       "      <td>0</td>\n",
       "    </tr>\n",
       "    <tr>\n",
       "      <th>998</th>\n",
       "      <td>M</td>\n",
       "      <td>39</td>\n",
       "      <td>Diabetic Foot Gangrene</td>\n",
       "      <td>4</td>\n",
       "      <td>5</td>\n",
       "      <td>0</td>\n",
       "    </tr>\n",
       "    <tr>\n",
       "      <th>999</th>\n",
       "      <td>M</td>\n",
       "      <td>35</td>\n",
       "      <td>Depressed Skull Fracture</td>\n",
       "      <td>6</td>\n",
       "      <td>6</td>\n",
       "      <td>0</td>\n",
       "    </tr>\n",
       "  </tbody>\n",
       "</table>\n",
       "<p>1000 rows × 6 columns</p>\n",
       "</div>"
      ],
      "text/plain": [
       "    Gender  Age                                Diagnosis  Days in Hospital  \\\n",
       "0        M   32                         Abdominal Injury                 9   \n",
       "1        M   15                 Depressed Skull Fracture                 3   \n",
       "2        M   26                   Diabetic Foot Gangrene                10   \n",
       "3        M   33                          Multiple Injury                 2   \n",
       "4        F   30                          Multiple Injury                 3   \n",
       "..     ...  ...                                      ...               ...   \n",
       "995      M   22                       Right Wrist Injury                 9   \n",
       "996      F   23                 Left Hand Fingers Injury                 5   \n",
       "997      M   20  Soft Tissue Injury Right Ankle Fracture                 2   \n",
       "998      M   39                   Diabetic Foot Gangrene                 4   \n",
       "999      M   35                 Depressed Skull Fracture                 6   \n",
       "\n",
       "     Number of Procedures  Readmitted  \n",
       "0                       7           1  \n",
       "1                       8           1  \n",
       "2                       1           1  \n",
       "3                       2           0  \n",
       "4                       4           1  \n",
       "..                    ...         ...  \n",
       "995                     9           1  \n",
       "996                     9           0  \n",
       "997                     3           0  \n",
       "998                     5           0  \n",
       "999                     6           0  \n",
       "\n",
       "[1000 rows x 6 columns]"
      ]
     },
     "execution_count": 2,
     "metadata": {},
     "output_type": "execute_result"
    }
   ],
   "source": [
    "# Load dataset\n",
    "file_path = \"r_updated_all_highrisk.xlsx\"  # Hubi in file extension-ku yahay .xlsx\n",
    "df = pd.read_excel(file_path)\n",
    "df"
   ]
  },
  {
   "cell_type": "code",
   "execution_count": 5,
   "id": "c092062a-5c5c-4fb2-9a21-3f5f29772711",
   "metadata": {},
   "outputs": [
    {
     "name": "stdout",
     "output_type": "stream",
     "text": [
      "🔍 Dataset Overview:\n",
      "<class 'pandas.core.frame.DataFrame'>\n",
      "RangeIndex: 1000 entries, 0 to 999\n",
      "Data columns (total 6 columns):\n",
      " #   Column                Non-Null Count  Dtype \n",
      "---  ------                --------------  ----- \n",
      " 0   Gender                1000 non-null   object\n",
      " 1   Age                   1000 non-null   int64 \n",
      " 2   Diagnosis             1000 non-null   object\n",
      " 3   Days in Hospital      1000 non-null   int64 \n",
      " 4   Number of Procedures  1000 non-null   int64 \n",
      " 5   Readmitted            1000 non-null   int64 \n",
      "dtypes: int64(4), object(2)\n",
      "memory usage: 47.0+ KB\n",
      "None\n"
     ]
    }
   ],
   "source": [
    "\n",
    "# Show basic info\n",
    "print(\"🔍 Dataset Overview:\")\n",
    "print(df.info())  # Dataset structure\n"
   ]
  },
  {
   "cell_type": "code",
   "execution_count": 7,
   "id": "0f0d090a-4cef-4d1f-8d59-65bb10630643",
   "metadata": {},
   "outputs": [
    {
     "data": {
      "text/html": [
       "<div>\n",
       "<style scoped>\n",
       "    .dataframe tbody tr th:only-of-type {\n",
       "        vertical-align: middle;\n",
       "    }\n",
       "\n",
       "    .dataframe tbody tr th {\n",
       "        vertical-align: top;\n",
       "    }\n",
       "\n",
       "    .dataframe thead th {\n",
       "        text-align: right;\n",
       "    }\n",
       "</style>\n",
       "<table border=\"1\" class=\"dataframe\">\n",
       "  <thead>\n",
       "    <tr style=\"text-align: right;\">\n",
       "      <th></th>\n",
       "      <th>Gender</th>\n",
       "      <th>Age</th>\n",
       "      <th>Diagnosis</th>\n",
       "      <th>Days in Hospital</th>\n",
       "      <th>Number of Procedures</th>\n",
       "      <th>Readmitted</th>\n",
       "    </tr>\n",
       "  </thead>\n",
       "  <tbody>\n",
       "    <tr>\n",
       "      <th>0</th>\n",
       "      <td>M</td>\n",
       "      <td>32</td>\n",
       "      <td>Abdominal Injury</td>\n",
       "      <td>9</td>\n",
       "      <td>7</td>\n",
       "      <td>1</td>\n",
       "    </tr>\n",
       "    <tr>\n",
       "      <th>1</th>\n",
       "      <td>M</td>\n",
       "      <td>15</td>\n",
       "      <td>Depressed Skull Fracture</td>\n",
       "      <td>3</td>\n",
       "      <td>8</td>\n",
       "      <td>1</td>\n",
       "    </tr>\n",
       "    <tr>\n",
       "      <th>2</th>\n",
       "      <td>M</td>\n",
       "      <td>26</td>\n",
       "      <td>Diabetic Foot Gangrene</td>\n",
       "      <td>10</td>\n",
       "      <td>1</td>\n",
       "      <td>1</td>\n",
       "    </tr>\n",
       "    <tr>\n",
       "      <th>3</th>\n",
       "      <td>M</td>\n",
       "      <td>33</td>\n",
       "      <td>Multiple Injury</td>\n",
       "      <td>2</td>\n",
       "      <td>2</td>\n",
       "      <td>0</td>\n",
       "    </tr>\n",
       "    <tr>\n",
       "      <th>4</th>\n",
       "      <td>F</td>\n",
       "      <td>30</td>\n",
       "      <td>Multiple Injury</td>\n",
       "      <td>3</td>\n",
       "      <td>4</td>\n",
       "      <td>1</td>\n",
       "    </tr>\n",
       "  </tbody>\n",
       "</table>\n",
       "</div>"
      ],
      "text/plain": [
       "  Gender  Age                 Diagnosis  Days in Hospital  \\\n",
       "0      M   32          Abdominal Injury                 9   \n",
       "1      M   15  Depressed Skull Fracture                 3   \n",
       "2      M   26    Diabetic Foot Gangrene                10   \n",
       "3      M   33           Multiple Injury                 2   \n",
       "4      F   30           Multiple Injury                 3   \n",
       "\n",
       "   Number of Procedures  Readmitted  \n",
       "0                     7           1  \n",
       "1                     8           1  \n",
       "2                     1           1  \n",
       "3                     2           0  \n",
       "4                     4           1  "
      ]
     },
     "execution_count": 7,
     "metadata": {},
     "output_type": "execute_result"
    }
   ],
   "source": [
    "df.head()  # First 5 rows\n"
   ]
  },
  {
   "cell_type": "code",
   "execution_count": 9,
   "id": "e438bc9d-9ba3-4ff9-b041-ad0a210f8e74",
   "metadata": {},
   "outputs": [
    {
     "name": "stdout",
     "output_type": "stream",
     "text": [
      "\n",
      "📊 Summary statistics:\n",
      "               Age  Days in Hospital  Number of Procedures   Readmitted\n",
      "count  1000.000000       1000.000000           1000.000000  1000.000000\n",
      "mean     29.388000          7.596000              4.917000     0.364000\n",
      "std      16.635269          4.129144              2.548452     0.481389\n",
      "min       5.000000          1.000000              1.000000     0.000000\n",
      "25%      20.000000          4.000000              3.000000     0.000000\n",
      "50%      26.000000          8.000000              5.000000     0.000000\n",
      "75%      35.000000         11.000000              7.000000     1.000000\n",
      "max      78.000000         14.000000              9.000000     1.000000\n"
     ]
    }
   ],
   "source": [
    "print(\"\\n📊 Summary statistics:\")\n",
    "print(df.describe())  # Summary statistics\n"
   ]
  },
  {
   "cell_type": "code",
   "execution_count": 10,
   "id": "8064f922-51b6-4ed7-90a3-cd8c8c1d92b5",
   "metadata": {},
   "outputs": [
    {
     "name": "stdout",
     "output_type": "stream",
     "text": [
      "\n",
      "❗ Duplicate Rows: 5\n"
     ]
    }
   ],
   "source": [
    "\n",
    "# Handle duplicates\n",
    "print(f\"\\n❗ Duplicate Rows: {df.duplicated().sum()}\")\n",
    "df.drop_duplicates(inplace=True)  # Remove duplicates\n"
   ]
  },
  {
   "cell_type": "code",
   "execution_count": 11,
   "id": "9a542a35-7004-422e-a485-c09af2c16c4f",
   "metadata": {},
   "outputs": [
    {
     "name": "stdout",
     "output_type": "stream",
     "text": [
      "\n",
      "🛑 Missing Values per Column:\n",
      " Series([], dtype: int64)\n"
     ]
    }
   ],
   "source": [
    "\n",
    "# Handle missing values\n",
    "missing_values = df.isnull().sum()\n",
    "print(\"\\n🛑 Missing Values per Column:\\n\", missing_values[missing_values > 0])\n",
    "df.dropna(subset=['Readmitted'], inplace=True)\n"
   ]
  },
  {
   "cell_type": "code",
   "execution_count": 12,
   "id": "5b740cdd-1e7b-4f21-b30e-ba07f9d1333c",
   "metadata": {},
   "outputs": [],
   "source": [
    "\n",
    "# Remove outliers using IQR method\n",
    "numeric_columns = ['Age', 'Number of Procedures', 'Days in Hospital', ]\n",
    "Q1 = df[numeric_columns].quantile(0.25)\n",
    "Q3 = df[numeric_columns].quantile(0.75)\n",
    "IQR = Q3 - Q1\n",
    "df = df[~((df[numeric_columns] < (Q1 - 1.5 * IQR)) | (df[numeric_columns] > (Q3 + 1.5 * IQR))).any(axis=1)]\n",
    "\n"
   ]
  },
  {
   "cell_type": "code",
   "execution_count": 13,
   "id": "afbc3706-08cb-44b2-a3b0-4672c714ef0a",
   "metadata": {},
   "outputs": [
    {
     "data": {
      "image/png": "[encoded data removed]",
      "text/plain": [
       "<Figure size 600x400 with 1 Axes>"
      ]
     },
     "metadata": {},
     "output_type": "display_data"
    }
   ],
   "source": [
    "sns.set_style(\"whitegrid\")\n",
    "plt.figure(figsize=(6, 4))\n",
    "sns.countplot(data=df, x='Gender', hue='Gender', palette='coolwarm', legend=False)\n",
    "plt.title(\"Gender Distribution\")\n",
    "plt.show()\n"
   ]
  },
  {
   "cell_type": "code",
   "execution_count": 14,
   "id": "08ad271d-ced8-4107-9233-3c56f930caab",
   "metadata": {},
   "outputs": [
    {
     "data": {
      "image/png": "[encoded data removed]",
      "text/plain": [
       "<Figure size 600x400 with 1 Axes>"
      ]
     },
     "metadata": {},
     "output_type": "display_data"
    }
   ],
   "source": [
    "plt.figure(figsize=(6, 4))\n",
    "sns.countplot(data=df, x='Readmitted', hue='Readmitted', palette='viridis', legend=False)\n",
    "plt.title(\"Readmission (0 = No, 1 = Yes)\")\n",
    "plt.show()\n"
   ]
  },
  {
   "cell_type": "code",
   "execution_count": 15,
   "id": "4a3410b0-bf77-44b6-bfdb-dade9d23863f",
   "metadata": {},
   "outputs": [
    {
     "data": {
      "image/png": "[encoded data removed]",
      "text/plain": [
       "<Figure size 800x400 with 1 Axes>"
      ]
     },
     "metadata": {},
     "output_type": "display_data"
    }
   ],
   "source": [
    "plt.figure(figsize=(8, 4))\n",
    "sns.countplot(data=df, y='Diagnosis', hue='Diagnosis', order=df['Diagnosis'].value_counts().index, palette='pastel', legend=False)\n",
    "plt.title(\"Diagnosis\")\n",
    "plt.show()\n"
   ]
  },
  {
   "cell_type": "code",
   "execution_count": 16,
   "id": "24e92f44-7a36-481e-b27a-108f8a1dc356",
   "metadata": {},
   "outputs": [
    {
     "data": {
      "image/png": "[encoded data removed]",
      "text/plain": [
       "<Figure size 600x400 with 1 Axes>"
      ]
     },
     "metadata": {},
     "output_type": "display_data"
    }
   ],
   "source": [
    "plt.figure(figsize=(6, 4))\n",
    "sns.histplot(df['Days in Hospital'], bins=15, kde=True, color='blue')\n",
    "plt.title(\"Distribution of Days in Hospital\")\n",
    "plt.show()\n",
    "\n"
   ]
  },
  {
   "cell_type": "code",
   "execution_count": null,
   "id": "84b9a2a7-617d-4961-9998-446f1fbaa151",
   "metadata": {},
   "outputs": [],
   "source": []
  },
  {
   "cell_type": "code",
   "execution_count": 18,
   "id": "8c759b3c-1d7e-4121-b93c-7b4ab2744d8b",
   "metadata": {},
   "outputs": [
    {
     "name": "stdout",
     "output_type": "stream",
     "text": [
      "  Gender  Age Diagnosis  Days in Hospital  Number of Procedures  Readmitted\n",
      "0      1   32         0                 9                     7           1\n",
      "1      1   15         1                 3                     8           1\n",
      "2      1   26         2                10                     1           1\n",
      "3      1   33         6                 2                     2           0\n",
      "4      0   30         6                 3                     4           1\n"
     ]
    }
   ],
   "source": [
    "from sklearn.preprocessing import LabelEncoder\n",
    "\n",
    "encoder = LabelEncoder()\n",
    "categorical_columns = ['Gender', 'Diagnosis', 'Readmitted']\n",
    "\n",
    "for col in categorical_columns:\n",
    "    df.loc[:, col] = encoder.fit_transform(df[col])  # Encoding categorical columns\n",
    "\n",
    "# Show the encoded dataframe\n",
    "print(df.head())\n"
   ]
  },
  {
   "cell_type": "code",
   "execution_count": 19,
   "id": "861ae74e-40dd-4f03-b938-93ef06d27f92",
   "metadata": {},
   "outputs": [
    {
     "name": "stderr",
     "output_type": "stream",
     "text": [
      "C:\\Users\\maxam\\AppData\\Local\\Temp\\ipykernel_9516\\42380393.py:6: SettingWithCopyWarning: \n",
      "A value is trying to be set on a copy of a slice from a DataFrame.\n",
      "Try using .loc[row_indexer,col_indexer] = value instead\n",
      "\n",
      "See the caveats in the documentation: https://pandas.pydata.org/pandas-docs/stable/user_guide/indexing.html#returning-a-view-versus-a-copy\n",
      "  df[numeric_columns] = scaler.fit_transform(df[numeric_columns])\n"
     ]
    },
    {
     "data": {
      "text/html": [
       "<div>\n",
       "<style scoped>\n",
       "    .dataframe tbody tr th:only-of-type {\n",
       "        vertical-align: middle;\n",
       "    }\n",
       "\n",
       "    .dataframe tbody tr th {\n",
       "        vertical-align: top;\n",
       "    }\n",
       "\n",
       "    .dataframe thead th {\n",
       "        text-align: right;\n",
       "    }\n",
       "</style>\n",
       "<table border=\"1\" class=\"dataframe\">\n",
       "  <thead>\n",
       "    <tr style=\"text-align: right;\">\n",
       "      <th></th>\n",
       "      <th>Gender</th>\n",
       "      <th>Age</th>\n",
       "      <th>Diagnosis</th>\n",
       "      <th>Days in Hospital</th>\n",
       "      <th>Number of Procedures</th>\n",
       "      <th>Readmitted</th>\n",
       "    </tr>\n",
       "  </thead>\n",
       "  <tbody>\n",
       "    <tr>\n",
       "      <th>0</th>\n",
       "      <td>1</td>\n",
       "      <td>0.529412</td>\n",
       "      <td>0</td>\n",
       "      <td>0.615385</td>\n",
       "      <td>0.750</td>\n",
       "      <td>1</td>\n",
       "    </tr>\n",
       "    <tr>\n",
       "      <th>1</th>\n",
       "      <td>1</td>\n",
       "      <td>0.196078</td>\n",
       "      <td>1</td>\n",
       "      <td>0.153846</td>\n",
       "      <td>0.875</td>\n",
       "      <td>1</td>\n",
       "    </tr>\n",
       "    <tr>\n",
       "      <th>2</th>\n",
       "      <td>1</td>\n",
       "      <td>0.411765</td>\n",
       "      <td>2</td>\n",
       "      <td>0.692308</td>\n",
       "      <td>0.000</td>\n",
       "      <td>1</td>\n",
       "    </tr>\n",
       "    <tr>\n",
       "      <th>3</th>\n",
       "      <td>1</td>\n",
       "      <td>0.549020</td>\n",
       "      <td>6</td>\n",
       "      <td>0.076923</td>\n",
       "      <td>0.125</td>\n",
       "      <td>0</td>\n",
       "    </tr>\n",
       "    <tr>\n",
       "      <th>4</th>\n",
       "      <td>0</td>\n",
       "      <td>0.490196</td>\n",
       "      <td>6</td>\n",
       "      <td>0.153846</td>\n",
       "      <td>0.375</td>\n",
       "      <td>1</td>\n",
       "    </tr>\n",
       "    <tr>\n",
       "      <th>5</th>\n",
       "      <td>1</td>\n",
       "      <td>0.490196</td>\n",
       "      <td>7</td>\n",
       "      <td>0.769231</td>\n",
       "      <td>1.000</td>\n",
       "      <td>1</td>\n",
       "    </tr>\n",
       "    <tr>\n",
       "      <th>7</th>\n",
       "      <td>0</td>\n",
       "      <td>0.686275</td>\n",
       "      <td>9</td>\n",
       "      <td>0.076923</td>\n",
       "      <td>0.875</td>\n",
       "      <td>1</td>\n",
       "    </tr>\n",
       "    <tr>\n",
       "      <th>8</th>\n",
       "      <td>1</td>\n",
       "      <td>0.372549</td>\n",
       "      <td>0</td>\n",
       "      <td>0.153846</td>\n",
       "      <td>0.375</td>\n",
       "      <td>0</td>\n",
       "    </tr>\n",
       "    <tr>\n",
       "      <th>9</th>\n",
       "      <td>1</td>\n",
       "      <td>0.156863</td>\n",
       "      <td>3</td>\n",
       "      <td>0.461538</td>\n",
       "      <td>0.000</td>\n",
       "      <td>0</td>\n",
       "    </tr>\n",
       "    <tr>\n",
       "      <th>10</th>\n",
       "      <td>1</td>\n",
       "      <td>0.352941</td>\n",
       "      <td>8</td>\n",
       "      <td>0.000000</td>\n",
       "      <td>0.500</td>\n",
       "      <td>0</td>\n",
       "    </tr>\n",
       "  </tbody>\n",
       "</table>\n",
       "</div>"
      ],
      "text/plain": [
       "   Gender       Age Diagnosis  Days in Hospital  Number of Procedures  \\\n",
       "0       1  0.529412         0          0.615385                 0.750   \n",
       "1       1  0.196078         1          0.153846                 0.875   \n",
       "2       1  0.411765         2          0.692308                 0.000   \n",
       "3       1  0.549020         6          0.076923                 0.125   \n",
       "4       0  0.490196         6          0.153846                 0.375   \n",
       "5       1  0.490196         7          0.769231                 1.000   \n",
       "7       0  0.686275         9          0.076923                 0.875   \n",
       "8       1  0.372549         0          0.153846                 0.375   \n",
       "9       1  0.156863         3          0.461538                 0.000   \n",
       "10      1  0.352941         8          0.000000                 0.500   \n",
       "\n",
       "    Readmitted  \n",
       "0            1  \n",
       "1            1  \n",
       "2            1  \n",
       "3            0  \n",
       "4            1  \n",
       "5            1  \n",
       "7            1  \n",
       "8            0  \n",
       "9            0  \n",
       "10           0  "
      ]
     },
     "execution_count": 19,
     "metadata": {},
     "output_type": "execute_result"
    }
   ],
   "source": [
    "# Scale numeric columns using MinMaxScaler\n",
    "numeric_columns = ['Age', 'Number of Procedures', 'Days in Hospital']\n",
    "scaler = MinMaxScaler()\n",
    "\n",
    "# Fit and transform the data, then update the DataFrame\n",
    "df[numeric_columns] = scaler.fit_transform(df[numeric_columns])\n",
    "\n",
    "# Show updated dataset\n",
    "df.head(10)"
   ]
  },
  {
   "cell_type": "code",
   "execution_count": 20,
   "id": "f1a9d5d0-03f3-4272-a21b-ec7a007a4370",
   "metadata": {},
   "outputs": [],
   "source": [
    "# Encode categorical variables\n",
    "label_encoders = {}\n",
    "categorical_columns = ['Gender', 'Diagnosis',]\n",
    "df_encoded = df.copy()\n",
    "\n",
    "for col in categorical_columns:\n",
    "    le = LabelEncoder()\n",
    "    df_encoded[col] = le.fit_transform(df_encoded[col])\n",
    "    label_encoders[col] = le\n"
   ]
  },
  {
   "cell_type": "code",
   "execution_count": 21,
   "id": "6601bcc3-b841-4ee4-a666-807cc810bb7c",
   "metadata": {},
   "outputs": [],
   "source": [
    "\n",
    "# Define features and target variable\n",
    "X = df_encoded.drop(columns=['Readmitted'])\n",
    "y = df_encoded['Readmitted']\n",
    "\n",
    "# Handle class imbalance using Oversampling\n",
    "df_majority = df_encoded[df_encoded.Readmitted == 0]\n",
    "df_minority = df_encoded[df_encoded.Readmitted == 1]\n",
    "\n",
    "df_minority_upsampled = resample(df_minority, replace=True, n_samples=len(df_majority), random_state=42)\n",
    "df_balanced = pd.concat([df_majority, df_minority_upsampled]).sample(frac=1, random_state=42).reset_index(drop=True)"
   ]
  },
  {
   "cell_type": "code",
   "execution_count": 22,
   "id": "5b55395b-dc42-4e09-bde0-dd964ad8acd8",
   "metadata": {},
   "outputs": [],
   "source": [
    "# Split data\n",
    "X_balanced = df_balanced.drop(columns=['Readmitted'])\n",
    "y_balanced = df_balanced['Readmitted']\n",
    "X_train, X_test, y_train, y_test = train_test_split(X_balanced, y_balanced, test_size=0.2, random_state=42)\n",
    "\n"
   ]
  },
  {
   "cell_type": "code",
   "execution_count": 23,
   "id": "da09c0bf-c047-46fa-82f4-051d6b21ccea",
   "metadata": {},
   "outputs": [
    {
     "name": "stdout",
     "output_type": "stream",
     "text": [
      "\n",
      "Logistic Regression:\n",
      "               precision    recall  f1-score   support\n",
      "\n",
      "           0       0.75      0.79      0.77       118\n",
      "           1       0.79      0.75      0.77       123\n",
      "\n",
      "    accuracy                           0.77       241\n",
      "   macro avg       0.77      0.77      0.77       241\n",
      "weighted avg       0.77      0.77      0.77       241\n",
      "\n",
      "Logistic Regression -> Accuracy: 0.7676, AUC Score: 0.8213\n"
     ]
    }
   ],
   "source": [
    "# Train Logistic Regression\n",
    "lr_model = LogisticRegression()\n",
    "lr_model.fit(X_train, y_train)\n",
    "y_pred_lr = lr_model.predict(X_test)\n",
    "accuracy_lr = accuracy_score(y_test, y_pred_lr)\n",
    "auc_score_lr = roc_auc_score(y_test, lr_model.predict_proba(X_test)[:, 1])\n",
    "print(f\"\\nLogistic Regression:\\n\", classification_report(y_test, y_pred_lr))\n",
    "print(f\"Logistic Regression -> Accuracy: {accuracy_lr:.4f}, AUC Score: {auc_score_lr:.4f}\")\n",
    "\n"
   ]
  },
  {
   "cell_type": "code",
   "execution_count": 24,
   "id": "eb5ab096-3859-43a2-aa59-9e801de249a1",
   "metadata": {},
   "outputs": [
    {
     "name": "stderr",
     "output_type": "stream",
     "text": [
      "C:\\Users\\maxam\\anaconda3\\Lib\\site-packages\\xgboost\\core.py:158: UserWarning: [20:56:41] WARNING: C:\\buildkite-agent\\builds\\buildkite-windows-cpu-autoscaling-group-i-0c55ff5f71b100e98-1\\xgboost\\xgboost-ci-windows\\src\\learner.cc:740: \n",
      "Parameters: { \"use_label_encoder\" } are not used.\n",
      "\n",
      "  warnings.warn(smsg, UserWarning)\n"
     ]
    },
    {
     "name": "stdout",
     "output_type": "stream",
     "text": [
      "\n",
      "XGBoost:\n",
      "               precision    recall  f1-score   support\n",
      "\n",
      "           0       0.95      0.89      0.92       118\n",
      "           1       0.90      0.96      0.93       123\n",
      "\n",
      "    accuracy                           0.93       241\n",
      "   macro avg       0.93      0.92      0.93       241\n",
      "weighted avg       0.93      0.93      0.93       241\n",
      "\n",
      "XGBoost -> Accuracy: 0.9253, AUC Score: 0.9541\n"
     ]
    }
   ],
   "source": [
    "# Train XGBoost\n",
    "xgb_model = xgb.XGBClassifier(use_label_encoder=False, eval_metric='logloss')\n",
    "xgb_model.fit(X_train, y_train)\n",
    "y_pred_xgb = xgb_model.predict(X_test)\n",
    "accuracy_xgb = accuracy_score(y_test, y_pred_xgb)\n",
    "auc_score_xgb = roc_auc_score(y_test, xgb_model.predict_proba(X_test)[:, 1])\n",
    "print(f\"\\nXGBoost:\\n\", classification_report(y_test, y_pred_xgb))\n",
    "print(f\"XGBoost -> Accuracy: {accuracy_xgb:.4f}, AUC Score: {auc_score_xgb:.4f}\")\n",
    "\n"
   ]
  },
  {
   "cell_type": "code",
   "execution_count": 25,
   "id": "435375e6-fba4-461b-a6d1-d9e1163bd511",
   "metadata": {},
   "outputs": [
    {
     "name": "stdout",
     "output_type": "stream",
     "text": [
      "[LightGBM] [Warning] Found whitespace in feature_names, replace with underlines\n",
      "[LightGBM] [Info] Number of positive: 478, number of negative: 483\n",
      "[LightGBM] [Info] Auto-choosing row-wise multi-threading, the overhead of testing was 0.000044 seconds.\n",
      "You can set `force_row_wise=true` to remove the overhead.\n",
      "And if memory is not enough, you can set `force_col_wise=true`.\n",
      "[LightGBM] [Info] Total Bins 66\n",
      "[LightGBM] [Info] Number of data points in the train set: 961, number of used features: 5\n",
      "[LightGBM] [Info] [binary:BoostFromScore]: pavg=0.497399 -> initscore=-0.010406\n",
      "[LightGBM] [Info] Start training from score -0.010406\n",
      "\n",
      "LightGBM:\n",
      "               precision    recall  f1-score   support\n",
      "\n",
      "           0       0.94      0.91      0.92       118\n",
      "           1       0.91      0.94      0.93       123\n",
      "\n",
      "    accuracy                           0.93       241\n",
      "   macro avg       0.93      0.92      0.93       241\n",
      "weighted avg       0.93      0.93      0.93       241\n",
      "\n",
      "LightGBM -> Accuracy: 0.9253, AUC Score: 0.9579\n"
     ]
    }
   ],
   "source": [
    "# Train LightGBM\n",
    "lgb_model = lgb.LGBMClassifier()\n",
    "lgb_model.fit(X_train, y_train)\n",
    "y_pred_lgb = lgb_model.predict(X_test)\n",
    "accuracy_lgb = accuracy_score(y_test, y_pred_lgb)\n",
    "auc_score_lgb = roc_auc_score(y_test, lgb_model.predict_proba(X_test)[:, 1])\n",
    "print(f\"\\nLightGBM:\\n\", classification_report(y_test, y_pred_lgb))\n",
    "print(f\"LightGBM -> Accuracy: {accuracy_lgb:.4f}, AUC Score: {auc_score_lgb:.4f}\")\n",
    "\n"
   ]
  },
  {
   "cell_type": "code",
   "execution_count": 26,
   "id": "f5310c10-75fa-4791-ac6b-07893bff331e",
   "metadata": {},
   "outputs": [
    {
     "name": "stdout",
     "output_type": "stream",
     "text": [
      "\n",
      "Random Forest:\n",
      "               precision    recall  f1-score   support\n",
      "\n",
      "           0       0.96      0.95      0.95       118\n",
      "           1       0.95      0.96      0.96       123\n",
      "\n",
      "    accuracy                           0.95       241\n",
      "   macro avg       0.95      0.95      0.95       241\n",
      "weighted avg       0.95      0.95      0.95       241\n",
      "\n",
      "Random Forest -> Accuracy: 0.9544, AUC Score: 0.9631\n"
     ]
    }
   ],
   "source": [
    "# Train Random Forest\n",
    "rf_model = RandomForestClassifier(n_estimators=100, random_state=42)\n",
    "rf_model.fit(X_train, y_train)\n",
    "y_pred_rf = rf_model.predict(X_test)\n",
    "accuracy_rf = accuracy_score(y_test, y_pred_rf)\n",
    "auc_score_rf = roc_auc_score(y_test, rf_model.predict_proba(X_test)[:, 1])\n",
    "print(f\"\\nRandom Forest:\\n\", classification_report(y_test, y_pred_rf))\n",
    "print(f\"Random Forest -> Accuracy: {accuracy_rf:.4f}, AUC Score: {auc_score_rf:.4f}\")\n",
    "\n"
   ]
  },
  {
   "cell_type": "code",
   "execution_count": 27,
   "id": "b8cd1bc1-884b-4315-8c35-c5f8f3f2b900",
   "metadata": {},
   "outputs": [
    {
     "name": "stdout",
     "output_type": "stream",
     "text": [
      "Final Test Accuracy: 0.9544\n",
      "Final Test AUC Score: 0.9615\n"
     ]
    }
   ],
   "source": [
    "# Train the final Random Forest model with the best hyperparameters\n",
    "best_rf = RandomForestClassifier(\n",
    "    max_depth=None,\n",
    "    min_samples_leaf=1,\n",
    "    min_samples_split=2,\n",
    "    n_estimators=300,\n",
    "    random_state=42\n",
    ")\n",
    "\n",
    "best_rf.fit(X_train, y_train)\n",
    "\n",
    "# Evaluate on the test set\n",
    "y_pred_final = best_rf.predict(X_test)\n",
    "final_accuracy = accuracy_score(y_test, y_pred_final)\n",
    "final_auc = roc_auc_score(y_test, best_rf.predict_proba(X_test)[:, 1])\n",
    "\n",
    "print(f\"Final Test Accuracy: {final_accuracy:.4f}\")\n",
    "print(f\"Final Test AUC Score: {final_auc:.4f}\")\n",
    "\n",
    "\n"
   ]
  },
  {
   "cell_type": "code",
   "execution_count": 28,
   "id": "c100f139-b632-4f93-bd41-2d9a247a0e14",
   "metadata": {},
   "outputs": [
    {
     "data": {
      "text/plain": [
       "['label_encoders.pkl']"
      ]
     },
     "execution_count": 28,
     "metadata": {},
     "output_type": "execute_result"
    }
   ],
   "source": [
    "# Save trained model\n",
    "joblib.dump(best_rf, 'random_forest_model.pkl')\n",
    "\n",
    "# Save feature scaler\n",
    "joblib.dump(scaler, 'scaler.pkl')\n",
    "\n",
    "# Save label encoders\n",
    "joblib.dump(label_encoders, 'label_encoders.pkl')\n"
   ]
  },
  {
   "cell_type": "code",
   "execution_count": null,
   "id": "254aca79-4f20-4ecb-8bcf-95394f9da211",
   "metadata": {},
   "outputs": [],
   "source": []
  }
 ],
 "metadata": {
  "kernelspec": {
   "display_name": "Python 3 (ipykernel)",
   "language": "python",
   "name": "python3"
  },
  "language_info": {
   "codemirror_mode": {
    "name": "ipython",
    "version": 3
   },
   "file_extension": ".py",
   "mimetype": "text/x-python",
   "name": "python",
   "nbconvert_exporter": "python",
   "pygments_lexer": "ipython3",
   "version": "3.12.4"
  }
 },
 "nbformat": 4,
 "nbformat_minor": 5
}
